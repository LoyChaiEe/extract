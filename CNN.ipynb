{
 "cells": [
  {
   "cell_type": "code",
   "execution_count": null,
   "metadata": {},
   "outputs": [
    {
     "name": "stderr",
     "output_type": "stream",
     "text": [
      "2023-04-18 15:30:44.374036: I tensorflow/tsl/cuda/cudart_stub.cc:28] Could not find cuda drivers on your machine, GPU will not be used.\n",
      "2023-04-18 15:30:44.611066: I tensorflow/tsl/cuda/cudart_stub.cc:28] Could not find cuda drivers on your machine, GPU will not be used.\n",
      "2023-04-18 15:30:44.613139: I tensorflow/core/platform/cpu_feature_guard.cc:182] This TensorFlow binary is optimized to use available CPU instructions in performance-critical operations.\n",
      "To enable the following instructions: AVX2 FMA, in other operations, rebuild TensorFlow with the appropriate compiler flags.\n",
      "2023-04-18 15:30:46.079331: W tensorflow/compiler/tf2tensorrt/utils/py_utils.cc:38] TF-TRT Warning: Could not find TensorRT\n"
     ]
    }
   ],
   "source": [
    "# Importing of general libraries\n",
    "import tensorflow as tf\n",
    "from tensorflow import keras\n",
    "import numpy as np\n",
    "import matplotlib.pyplot as plt\n",
    "import pandas as pd\n",
    "import sklearn as sk\n",
    "import seaborn as sns"
   ]
  },
  {
   "cell_type": "code",
   "execution_count": 2,
   "metadata": {},
   "outputs": [],
   "source": [
    "# Importing libraries\n",
    "import tensorflow.keras.backend as K\n",
    "from sklearn.model_selection import cross_val_score\n",
    "from sklearn.model_selection import KFold\n",
    "from sklearn.model_selection import GridSearchCV\n",
    "from sklearn.model_selection import RandomizedSearchCV\n",
    "from sklearn.metrics import confusion_matrix\n",
    "from sklearn.metrics import classification_report\n",
    "from sklearn.metrics import accuracy_score\n",
    "from sklearn.ensemble import VotingClassifier\n",
    "\n",
    "\n",
    "from keras.callbacks import LearningRateScheduler\n",
    "from keras.callbacks import ReduceLROnPlateau\n",
    "from keras import backend as k\n",
    "from tensorflow.keras.utils import to_categorical"
   ]
  },
  {
   "cell_type": "code",
   "execution_count": 3,
   "metadata": {},
   "outputs": [
    {
     "ename": "FileNotFoundError",
     "evalue": "[Errno 2] No such file or directory: 'Hiragan_test'",
     "output_type": "error",
     "traceback": [
      "\u001b[0;31m---------------------------------------------------------------------------\u001b[0m",
      "\u001b[0;31mFileNotFoundError\u001b[0m                         Traceback (most recent call last)",
      "Cell \u001b[0;32mIn[3], line 6\u001b[0m\n\u001b[1;32m      4\u001b[0m \u001b[39m# Load the dataset\u001b[39;00m\n\u001b[1;32m      5\u001b[0m train_datagen \u001b[39m=\u001b[39m ImageDataGenerator(rescale\u001b[39m=\u001b[39m\u001b[39m1.\u001b[39m\u001b[39m/\u001b[39m\u001b[39m255\u001b[39m, validation_split\u001b[39m=\u001b[39m\u001b[39m0.2\u001b[39m)\n\u001b[0;32m----> 6\u001b[0m train_dataset \u001b[39m=\u001b[39m train_datagen\u001b[39m.\u001b[39;49mflow_from_directory(\n\u001b[1;32m      7\u001b[0m     \u001b[39m'\u001b[39;49m\u001b[39mHiragan_test\u001b[39;49m\u001b[39m'\u001b[39;49m,\n\u001b[1;32m      8\u001b[0m     target_size\u001b[39m=\u001b[39;49m(\u001b[39m32\u001b[39;49m, \u001b[39m32\u001b[39;49m),\n\u001b[1;32m      9\u001b[0m     batch_size\u001b[39m=\u001b[39;49m\u001b[39m32\u001b[39;49m,\n\u001b[1;32m     10\u001b[0m     class_mode\u001b[39m=\u001b[39;49m\u001b[39m'\u001b[39;49m\u001b[39mcategorical\u001b[39;49m\u001b[39m'\u001b[39;49m,\n\u001b[1;32m     11\u001b[0m     subset\u001b[39m=\u001b[39;49m\u001b[39m'\u001b[39;49m\u001b[39mtraining\u001b[39;49m\u001b[39m'\u001b[39;49m)\n\u001b[1;32m     12\u001b[0m val_dataset \u001b[39m=\u001b[39m train_datagen\u001b[39m.\u001b[39mflow_from_directory(\n\u001b[1;32m     13\u001b[0m     \u001b[39m'\u001b[39m\u001b[39mHiragan_test\u001b[39m\u001b[39m'\u001b[39m,\n\u001b[1;32m     14\u001b[0m     target_size\u001b[39m=\u001b[39m(\u001b[39m32\u001b[39m, \u001b[39m32\u001b[39m),\n\u001b[1;32m     15\u001b[0m     batch_size\u001b[39m=\u001b[39m\u001b[39m32\u001b[39m,\n\u001b[1;32m     16\u001b[0m     class_mode\u001b[39m=\u001b[39m\u001b[39m'\u001b[39m\u001b[39mcategorical\u001b[39m\u001b[39m'\u001b[39m,\n\u001b[1;32m     17\u001b[0m     subset\u001b[39m=\u001b[39m\u001b[39m'\u001b[39m\u001b[39mvalidation\u001b[39m\u001b[39m'\u001b[39m)\n",
      "File \u001b[0;32m~/extract/OCR/lib/python3.9/site-packages/keras/preprocessing/image.py:1648\u001b[0m, in \u001b[0;36mImageDataGenerator.flow_from_directory\u001b[0;34m(self, directory, target_size, color_mode, classes, class_mode, batch_size, shuffle, seed, save_to_dir, save_prefix, save_format, follow_links, subset, interpolation, keep_aspect_ratio)\u001b[0m\n\u001b[1;32m   1562\u001b[0m \u001b[39mdef\u001b[39;00m \u001b[39mflow_from_directory\u001b[39m(\n\u001b[1;32m   1563\u001b[0m     \u001b[39mself\u001b[39m,\n\u001b[1;32m   1564\u001b[0m     directory,\n\u001b[0;32m   (...)\u001b[0m\n\u001b[1;32m   1578\u001b[0m     keep_aspect_ratio\u001b[39m=\u001b[39m\u001b[39mFalse\u001b[39;00m,\n\u001b[1;32m   1579\u001b[0m ):\n\u001b[1;32m   1580\u001b[0m \u001b[39m    \u001b[39m\u001b[39m\"\"\"Takes the path to a directory & generates batches of augmented data.\u001b[39;00m\n\u001b[1;32m   1581\u001b[0m \n\u001b[1;32m   1582\u001b[0m \u001b[39m    Args:\u001b[39;00m\n\u001b[0;32m   (...)\u001b[0m\n\u001b[1;32m   1646\u001b[0m \u001b[39m            and `y` is a numpy array of corresponding labels.\u001b[39;00m\n\u001b[1;32m   1647\u001b[0m \u001b[39m    \"\"\"\u001b[39;00m\n\u001b[0;32m-> 1648\u001b[0m     \u001b[39mreturn\u001b[39;00m DirectoryIterator(\n\u001b[1;32m   1649\u001b[0m         directory,\n\u001b[1;32m   1650\u001b[0m         \u001b[39mself\u001b[39;49m,\n\u001b[1;32m   1651\u001b[0m         target_size\u001b[39m=\u001b[39;49mtarget_size,\n\u001b[1;32m   1652\u001b[0m         color_mode\u001b[39m=\u001b[39;49mcolor_mode,\n\u001b[1;32m   1653\u001b[0m         keep_aspect_ratio\u001b[39m=\u001b[39;49mkeep_aspect_ratio,\n\u001b[1;32m   1654\u001b[0m         classes\u001b[39m=\u001b[39;49mclasses,\n\u001b[1;32m   1655\u001b[0m         class_mode\u001b[39m=\u001b[39;49mclass_mode,\n\u001b[1;32m   1656\u001b[0m         data_format\u001b[39m=\u001b[39;49m\u001b[39mself\u001b[39;49m\u001b[39m.\u001b[39;49mdata_format,\n\u001b[1;32m   1657\u001b[0m         batch_size\u001b[39m=\u001b[39;49mbatch_size,\n\u001b[1;32m   1658\u001b[0m         shuffle\u001b[39m=\u001b[39;49mshuffle,\n\u001b[1;32m   1659\u001b[0m         seed\u001b[39m=\u001b[39;49mseed,\n\u001b[1;32m   1660\u001b[0m         save_to_dir\u001b[39m=\u001b[39;49msave_to_dir,\n\u001b[1;32m   1661\u001b[0m         save_prefix\u001b[39m=\u001b[39;49msave_prefix,\n\u001b[1;32m   1662\u001b[0m         save_format\u001b[39m=\u001b[39;49msave_format,\n\u001b[1;32m   1663\u001b[0m         follow_links\u001b[39m=\u001b[39;49mfollow_links,\n\u001b[1;32m   1664\u001b[0m         subset\u001b[39m=\u001b[39;49msubset,\n\u001b[1;32m   1665\u001b[0m         interpolation\u001b[39m=\u001b[39;49minterpolation,\n\u001b[1;32m   1666\u001b[0m         dtype\u001b[39m=\u001b[39;49m\u001b[39mself\u001b[39;49m\u001b[39m.\u001b[39;49mdtype,\n\u001b[1;32m   1667\u001b[0m     )\n",
      "File \u001b[0;32m~/extract/OCR/lib/python3.9/site-packages/keras/preprocessing/image.py:563\u001b[0m, in \u001b[0;36mDirectoryIterator.__init__\u001b[0;34m(self, directory, image_data_generator, target_size, color_mode, classes, class_mode, batch_size, shuffle, seed, data_format, save_to_dir, save_prefix, save_format, follow_links, subset, interpolation, keep_aspect_ratio, dtype)\u001b[0m\n\u001b[1;32m    561\u001b[0m \u001b[39mif\u001b[39;00m \u001b[39mnot\u001b[39;00m classes:\n\u001b[1;32m    562\u001b[0m     classes \u001b[39m=\u001b[39m []\n\u001b[0;32m--> 563\u001b[0m     \u001b[39mfor\u001b[39;00m subdir \u001b[39min\u001b[39;00m \u001b[39msorted\u001b[39m(os\u001b[39m.\u001b[39;49mlistdir(directory)):\n\u001b[1;32m    564\u001b[0m         \u001b[39mif\u001b[39;00m os\u001b[39m.\u001b[39mpath\u001b[39m.\u001b[39misdir(os\u001b[39m.\u001b[39mpath\u001b[39m.\u001b[39mjoin(directory, subdir)):\n\u001b[1;32m    565\u001b[0m             classes\u001b[39m.\u001b[39mappend(subdir)\n",
      "\u001b[0;31mFileNotFoundError\u001b[0m: [Errno 2] No such file or directory: 'Hiragan_test'"
     ]
    }
   ],
   "source": [
    "import tensorflow as tf\n",
    "from tensorflow.keras.preprocessing.image import ImageDataGenerator\n",
    "\n",
    "# Load the dataset\n",
    "train_datagen = ImageDataGenerator(rescale=1./255, validation_split=0.2)\n",
    "train_dataset = train_datagen.flow_from_directory(\n",
    "    'Hiragan_test',\n",
    "    target_size=(32, 32),\n",
    "    batch_size=32,\n",
    "    class_mode='categorical',\n",
    "    subset='training')\n",
    "val_dataset = train_datagen.flow_from_directory(\n",
    "    'Hiragan_test',\n",
    "    target_size=(32, 32),\n",
    "    batch_size=32,\n",
    "    class_mode='categorical',\n",
    "    subset='validation')\n"
   ]
  },
  {
   "cell_type": "code",
   "execution_count": null,
   "metadata": {},
   "outputs": [
    {
     "name": "stdout",
     "output_type": "stream",
     "text": [
      "Number of classes: 5\n"
     ]
    },
    {
     "data": {
      "image/png": "[encoded data removed]",
      "text/plain": [
       "<Figure size 1000x600 with 1 Axes>"
      ]
     },
     "metadata": {},
     "output_type": "display_data"
    }
   ],
   "source": [
    "# Number of classes\n",
    "num_classes = len(train_dataset.class_indices)\n",
    "print(\"Number of classes:\", num_classes)\n",
    "\n",
    "# Countplot of train_dataset\n",
    "plt.figure(figsize=(10,6))\n",
    "sns.countplot(x=train_dataset.classes)\n",
    "plt.title(\"Distribution of classes in train dataset\")\n",
    "plt.show()"
   ]
  },
  {
   "cell_type": "code",
   "execution_count": null,
   "metadata": {},
   "outputs": [
    {
     "name": "stderr",
     "output_type": "stream",
     "text": [
      "2023-04-16 11:04:48.237609: I tensorflow/compiler/xla/stream_executor/cuda/cuda_gpu_executor.cc:982] could not open file to read NUMA node: /sys/bus/pci/devices/0000:26:00.0/numa_node\n",
      "Your kernel may have been built without NUMA support.\n",
      "2023-04-16 11:04:48.238099: W tensorflow/core/common_runtime/gpu/gpu_device.cc:1956] Cannot dlopen some GPU libraries. Please make sure the missing libraries mentioned above are installed properly if you would like to use GPU. Follow the guide at https://www.tensorflow.org/install/gpu for how to download and setup the required libraries for your platform.\n",
      "Skipping registering GPU devices...\n"
     ]
    }
   ],
   "source": [
    "# Build the CNN model\n",
    "model = tf.keras.Sequential([\n",
    "    tf.keras.layers.Conv2D(32, (3,3), activation='relu', input_shape=(32, 32, 3)),\n",
    "    tf.keras.layers.MaxPooling2D((2,2)),\n",
    "    tf.keras.layers.Conv2D(64, (3,3), activation='relu'),\n",
    "    tf.keras.layers.MaxPooling2D((2,2)),\n",
    "    tf.keras.layers.Conv2D(64, (3,3), activation='relu'),\n",
    "    tf.keras.layers.Flatten(),\n",
    "    tf.keras.layers.Dense(128, activation='relu'),\n",
    "    tf.keras.layers.Dense(5, activation='softmax')\n",
    "])\n",
    "\n",
    "# Compile the model\n",
    "model.compile(optimizer='adam',\n",
    "              loss='categorical_crossentropy',\n",
    "              metrics=['accuracy'])\n"
   ]
  },
  {
   "cell_type": "code",
   "execution_count": null,
   "metadata": {},
   "outputs": [
    {
     "name": "stdout",
     "output_type": "stream",
     "text": [
      "Epoch 1/40\n"
     ]
    },
    {
     "name": "stderr",
     "output_type": "stream",
     "text": [
      "2023-04-16 11:04:48.512773: I tensorflow/core/common_runtime/executor.cc:1197] [/device:CPU:0] (DEBUG INFO) Executor start aborting (this does not indicate an error and you can ignore this message): INVALID_ARGUMENT: You must feed a value for placeholder tensor 'Placeholder/_0' with dtype int32\n",
      "\t [[{{node Placeholder/_0}}]]\n"
     ]
    },
    {
     "name": "stdout",
     "output_type": "stream",
     "text": [
      "21/21 [==============================] - 1s 26ms/step - loss: 1.2884 - accuracy: 0.5037 - val_loss: 0.7070 - val_accuracy: 0.7831\n",
      "Epoch 2/40\n"
     ]
    },
    {
     "name": "stderr",
     "output_type": "stream",
     "text": [
      "2023-04-16 11:04:49.514367: I tensorflow/core/common_runtime/executor.cc:1197] [/device:CPU:0] (DEBUG INFO) Executor start aborting (this does not indicate an error and you can ignore this message): INVALID_ARGUMENT: You must feed a value for placeholder tensor 'Placeholder/_0' with dtype int32\n",
      "\t [[{{node Placeholder/_0}}]]\n"
     ]
    },
    {
     "name": "stdout",
     "output_type": "stream",
     "text": [
      "21/21 [==============================] - 0s 18ms/step - loss: 0.4783 - accuracy: 0.8554 - val_loss: 0.3000 - val_accuracy: 0.9036\n",
      "Epoch 3/40\n",
      "21/21 [==============================] - 0s 20ms/step - loss: 0.2638 - accuracy: 0.9091 - val_loss: 0.2454 - val_accuracy: 0.8855\n",
      "Epoch 4/40\n",
      "21/21 [==============================] - 0s 17ms/step - loss: 0.1976 - accuracy: 0.9255 - val_loss: 0.2422 - val_accuracy: 0.9337\n",
      "Epoch 5/40\n",
      "21/21 [==============================] - 0s 16ms/step - loss: 0.1390 - accuracy: 0.9613 - val_loss: 0.1695 - val_accuracy: 0.9398\n",
      "Epoch 6/40\n",
      "21/21 [==============================] - 0s 17ms/step - loss: 0.0822 - accuracy: 0.9836 - val_loss: 0.2062 - val_accuracy: 0.9398\n",
      "Epoch 7/40\n",
      "21/21 [==============================] - 0s 18ms/step - loss: 0.0988 - accuracy: 0.9627 - val_loss: 0.2022 - val_accuracy: 0.9398\n",
      "Epoch 8/40\n",
      "21/21 [==============================] - 0s 18ms/step - loss: 0.0584 - accuracy: 0.9836 - val_loss: 0.1678 - val_accuracy: 0.9458\n",
      "Epoch 9/40\n",
      "21/21 [==============================] - 0s 16ms/step - loss: 0.0332 - accuracy: 0.9911 - val_loss: 0.1764 - val_accuracy: 0.9398\n",
      "Epoch 10/40\n",
      "21/21 [==============================] - 0s 17ms/step - loss: 0.0284 - accuracy: 0.9925 - val_loss: 0.2272 - val_accuracy: 0.9398\n",
      "Epoch 11/40\n",
      "21/21 [==============================] - 0s 16ms/step - loss: 0.0300 - accuracy: 0.9925 - val_loss: 0.1429 - val_accuracy: 0.9699\n",
      "Epoch 12/40\n",
      "21/21 [==============================] - 0s 17ms/step - loss: 0.0120 - accuracy: 1.0000 - val_loss: 0.1682 - val_accuracy: 0.9578\n",
      "Epoch 13/40\n",
      "21/21 [==============================] - 0s 18ms/step - loss: 0.0057 - accuracy: 1.0000 - val_loss: 0.1755 - val_accuracy: 0.9639\n",
      "Epoch 14/40\n",
      "21/21 [==============================] - 0s 17ms/step - loss: 0.0033 - accuracy: 1.0000 - val_loss: 0.1813 - val_accuracy: 0.9639\n",
      "Epoch 15/40\n",
      "21/21 [==============================] - 0s 17ms/step - loss: 0.0025 - accuracy: 1.0000 - val_loss: 0.1792 - val_accuracy: 0.9639\n",
      "Epoch 16/40\n",
      "21/21 [==============================] - 0s 16ms/step - loss: 0.0020 - accuracy: 1.0000 - val_loss: 0.1812 - val_accuracy: 0.9639\n",
      "Epoch 17/40\n",
      "21/21 [==============================] - 0s 17ms/step - loss: 0.0018 - accuracy: 1.0000 - val_loss: 0.1836 - val_accuracy: 0.9639\n",
      "Epoch 18/40\n",
      "21/21 [==============================] - 0s 17ms/step - loss: 0.0015 - accuracy: 1.0000 - val_loss: 0.1809 - val_accuracy: 0.9699\n",
      "Epoch 19/40\n",
      "21/21 [==============================] - 0s 16ms/step - loss: 0.0013 - accuracy: 1.0000 - val_loss: 0.1850 - val_accuracy: 0.9699\n",
      "Epoch 20/40\n",
      "21/21 [==============================] - 0s 16ms/step - loss: 0.0011 - accuracy: 1.0000 - val_loss: 0.1868 - val_accuracy: 0.9699\n",
      "Epoch 21/40\n",
      "21/21 [==============================] - 0s 16ms/step - loss: 0.0010 - accuracy: 1.0000 - val_loss: 0.1917 - val_accuracy: 0.9699\n",
      "Epoch 22/40\n",
      "21/21 [==============================] - 0s 17ms/step - loss: 9.3091e-04 - accuracy: 1.0000 - val_loss: 0.1935 - val_accuracy: 0.9699\n",
      "Epoch 23/40\n",
      "21/21 [==============================] - 0s 16ms/step - loss: 8.7350e-04 - accuracy: 1.0000 - val_loss: 0.1966 - val_accuracy: 0.9699\n",
      "Epoch 24/40\n",
      "21/21 [==============================] - 0s 17ms/step - loss: 8.7335e-04 - accuracy: 1.0000 - val_loss: 0.1984 - val_accuracy: 0.9699\n",
      "Epoch 25/40\n",
      "21/21 [==============================] - 0s 17ms/step - loss: 7.4211e-04 - accuracy: 1.0000 - val_loss: 0.1972 - val_accuracy: 0.9578\n",
      "Epoch 26/40\n",
      "21/21 [==============================] - 0s 16ms/step - loss: 6.5669e-04 - accuracy: 1.0000 - val_loss: 0.2043 - val_accuracy: 0.9639\n",
      "Epoch 27/40\n",
      "21/21 [==============================] - 0s 16ms/step - loss: 5.8626e-04 - accuracy: 1.0000 - val_loss: 0.2030 - val_accuracy: 0.9699\n",
      "Epoch 28/40\n",
      "21/21 [==============================] - 0s 17ms/step - loss: 5.4701e-04 - accuracy: 1.0000 - val_loss: 0.2069 - val_accuracy: 0.9699\n",
      "Epoch 29/40\n",
      "21/21 [==============================] - 0s 17ms/step - loss: 5.1178e-04 - accuracy: 1.0000 - val_loss: 0.2067 - val_accuracy: 0.9639\n",
      "Epoch 30/40\n",
      "21/21 [==============================] - 0s 17ms/step - loss: 4.7873e-04 - accuracy: 1.0000 - val_loss: 0.2078 - val_accuracy: 0.9639\n",
      "Epoch 31/40\n",
      "21/21 [==============================] - 0s 23ms/step - loss: 4.5392e-04 - accuracy: 1.0000 - val_loss: 0.2101 - val_accuracy: 0.9699\n",
      "Epoch 32/40\n",
      "21/21 [==============================] - 0s 16ms/step - loss: 4.2722e-04 - accuracy: 1.0000 - val_loss: 0.2127 - val_accuracy: 0.9639\n",
      "Epoch 33/40\n",
      "21/21 [==============================] - 0s 16ms/step - loss: 4.0428e-04 - accuracy: 1.0000 - val_loss: 0.2111 - val_accuracy: 0.9699\n",
      "Epoch 34/40\n",
      "21/21 [==============================] - 0s 18ms/step - loss: 3.7920e-04 - accuracy: 1.0000 - val_loss: 0.2146 - val_accuracy: 0.9699\n",
      "Epoch 35/40\n",
      "21/21 [==============================] - 0s 17ms/step - loss: 3.3804e-04 - accuracy: 1.0000 - val_loss: 0.2146 - val_accuracy: 0.9699\n",
      "Epoch 36/40\n",
      "21/21 [==============================] - 0s 18ms/step - loss: 3.3499e-04 - accuracy: 1.0000 - val_loss: 0.2160 - val_accuracy: 0.9699\n",
      "Epoch 37/40\n",
      "21/21 [==============================] - 0s 16ms/step - loss: 3.0931e-04 - accuracy: 1.0000 - val_loss: 0.2187 - val_accuracy: 0.9699\n",
      "Epoch 38/40\n",
      "21/21 [==============================] - 0s 19ms/step - loss: 2.9451e-04 - accuracy: 1.0000 - val_loss: 0.2181 - val_accuracy: 0.9699\n",
      "Epoch 39/40\n",
      "21/21 [==============================] - 0s 16ms/step - loss: 2.8154e-04 - accuracy: 1.0000 - val_loss: 0.2185 - val_accuracy: 0.9699\n",
      "Epoch 40/40\n",
      "21/21 [==============================] - 0s 16ms/step - loss: 2.6906e-04 - accuracy: 1.0000 - val_loss: 0.2204 - val_accuracy: 0.9699\n",
      "Found 837 images belonging to 5 classes.\n",
      "12/27 [============>.................] - ETA: 0s - loss: 0.0583 - accuracy: 0.9948  "
     ]
    },
    {
     "name": "stderr",
     "output_type": "stream",
     "text": [
      "2023-04-16 11:05:04.504063: I tensorflow/core/common_runtime/executor.cc:1197] [/device:CPU:0] (DEBUG INFO) Executor start aborting (this does not indicate an error and you can ignore this message): INVALID_ARGUMENT: You must feed a value for placeholder tensor 'Placeholder/_0' with dtype int32\n",
      "\t [[{{node Placeholder/_0}}]]\n"
     ]
    },
    {
     "name": "stdout",
     "output_type": "stream",
     "text": [
      "27/27 [==============================] - 0s 9ms/step - loss: 0.0439 - accuracy: 0.9940\n",
      "Test accuracy: 0.9940263032913208\n"
     ]
    }
   ],
   "source": [
    "# Train the model\n",
    "history = model.fit(train_dataset,\n",
    "                    validation_data=val_dataset,\n",
    "                    epochs=40)\n",
    "\n",
    "# Evaluate the model\n",
    "test_datagen = ImageDataGenerator(rescale=1./255)\n",
    "test_dataset = test_datagen.flow_from_directory(\n",
    "    'Hiragan_test',\n",
    "    target_size=(32, 32),\n",
    "    batch_size=32,\n",
    "    class_mode='categorical')\n",
    "test_loss, test_acc = model.evaluate(test_dataset)\n",
    "print('Test accuracy:', test_acc)"
   ]
  },
  {
   "cell_type": "code",
   "execution_count": null,
   "metadata": {},
   "outputs": [
    {
     "data": {
      "image/png": "[encoded data removed]",
      "text/plain": [
       "<Figure size 640x480 with 1 Axes>"
      ]
     },
     "metadata": {},
     "output_type": "display_data"
    },
    {
     "name": "stdout",
     "output_type": "stream",
     "text": [
      "Class names: ['あ', 'い', 'う', 'え', 'お']\n",
      "1/1 [==============================] - 0s 79ms/step\n",
      "Predicted label: あ\n"
     ]
    }
   ],
   "source": [
    "from PIL import Image\n",
    "\n",
    "img = Image.open('Hiragana_letter_A.png')\n",
    "\n",
    "from tensorflow.keras.preprocessing.image import ImageDataGenerator\n",
    "\n",
    "import matplotlib.pyplot as plt\n",
    "# Morphological filtering\n",
    "from skimage.morphology import opening\n",
    "from skimage.morphology import disk\n",
    "# Connected component filtering\n",
    "import cv2\n",
    "# Data handling\n",
    "import numpy as np\n",
    "\n",
    "test_datagen = ImageDataGenerator(rescale=1./255)\n",
    "\n",
    "# Convert image to RGB mode\n",
    "img = img.convert('RGB')\n",
    "img = img.resize((32, 32))\n",
    "\n",
    "black = 0\n",
    "white = 255\n",
    "threshold = 250\n",
    "\n",
    "# Load the image\n",
    "pixels = np.array(img)[:,:,0]\n",
    "\n",
    "# Apply the thresholding\n",
    "pixels[pixels > threshold] = white\n",
    "pixels[pixels < threshold] = black\n",
    "\n",
    "# Morphological opening\n",
    "blobSize = 1 # Select the maximum radius of the blobs you would like to remove\n",
    "structureElement = disk(blobSize)  # you can define different shapes, here we take a disk shape\n",
    "# We need to invert the image such that black is background and white foreground to perform the opening\n",
    "pixels = np.invert(opening(np.invert(pixels), structureElement))\n",
    "\n",
    "newImg = Image.fromarray(pixels).convert('RGB')\n",
    "nb_components, output, stats, centroids = cv2.connectedComponentsWithStats(np.invert(pixels), connectivity=8)\n",
    "\n",
    "plt.imshow(newImg)\n",
    "plt.show()\n",
    "img_array = np.array(newImg)\n",
    "img_array = np.expand_dims(img_array, axis=0)\n",
    "img_array = test_datagen.flow(img_array).next()\n",
    "\n",
    "import os\n",
    "\n",
    "# Get the class names\n",
    "class_names = sorted(os.listdir('Hiragan_test'))\n",
    "print(\"Class names:\", class_names)\n",
    "\n",
    "prediction = model.predict(img_array)\n",
    "predicted_label = class_names[np.argmax(prediction)]\n",
    "\n",
    "print(\"Predicted label:\", predicted_label)"
   ]
  },
  {
   "cell_type": "code",
   "execution_count": null,
   "metadata": {},
   "outputs": [
    {
     "name": "stdout",
     "output_type": "stream",
     "text": [
      "13/27 [=============>................] - ETA: 0s"
     ]
    },
    {
     "name": "stderr",
     "output_type": "stream",
     "text": [
      "2023-04-16 11:09:58.325812: I tensorflow/core/common_runtime/executor.cc:1197] [/device:CPU:0] (DEBUG INFO) Executor start aborting (this does not indicate an error and you can ignore this message): INVALID_ARGUMENT: You must feed a value for placeholder tensor 'Placeholder/_0' with dtype int32\n",
      "\t [[{{node Placeholder/_0}}]]\n"
     ]
    },
    {
     "name": "stdout",
     "output_type": "stream",
     "text": [
      "27/27 [==============================] - 0s 10ms/step\n"
     ]
    },
    {
     "ename": "KeyboardInterrupt",
     "evalue": "",
     "output_type": "error",
     "traceback": [
      "\u001b[0;31m---------------------------------------------------------------------------\u001b[0m",
      "\u001b[0;31mKeyboardInterrupt\u001b[0m                         Traceback (most recent call last)",
      "Cell \u001b[0;32mIn[14], line 4\u001b[0m\n\u001b[1;32m      2\u001b[0m pred \u001b[39m=\u001b[39m model\u001b[39m.\u001b[39mpredict(test_dataset)\n\u001b[1;32m      3\u001b[0m y_pred \u001b[39m=\u001b[39m np\u001b[39m.\u001b[39margmax(pred, axis\u001b[39m=\u001b[39m\u001b[39m1\u001b[39m)\n\u001b[0;32m----> 4\u001b[0m y_true \u001b[39m=\u001b[39m np\u001b[39m.\u001b[39;49margmax(test_dataset, axis\u001b[39m=\u001b[39;49m\u001b[39m1\u001b[39;49m)\n\u001b[1;32m      5\u001b[0m cm \u001b[39m=\u001b[39m confusion_matrix(y_true,y_pred)\n\u001b[1;32m      6\u001b[0m sns\u001b[39m.\u001b[39mheatmap(cm, annot \u001b[39m=\u001b[39m \u001b[39mTrue\u001b[39;00m, fmt \u001b[39m=\u001b[39m \u001b[39m'\u001b[39m\u001b[39md\u001b[39m\u001b[39m'\u001b[39m, xticklabels \u001b[39m=\u001b[39m class_names, yticklabels \u001b[39m=\u001b[39m class_names)\n",
      "File \u001b[0;32m<__array_function__ internals>:180\u001b[0m, in \u001b[0;36margmax\u001b[0;34m(*args, **kwargs)\u001b[0m\n",
      "File \u001b[0;32m~/extract/OCR/lib/python3.9/site-packages/numpy/core/fromnumeric.py:1216\u001b[0m, in \u001b[0;36margmax\u001b[0;34m(a, axis, out, keepdims)\u001b[0m\n\u001b[1;32m   1129\u001b[0m \u001b[39m\u001b[39m\u001b[39m\"\"\"\u001b[39;00m\n\u001b[1;32m   1130\u001b[0m \u001b[39mReturns the indices of the maximum values along an axis.\u001b[39;00m\n\u001b[1;32m   1131\u001b[0m \n\u001b[0;32m   (...)\u001b[0m\n\u001b[1;32m   1213\u001b[0m \u001b[39m(2, 1, 4)\u001b[39;00m\n\u001b[1;32m   1214\u001b[0m \u001b[39m\"\"\"\u001b[39;00m\n\u001b[1;32m   1215\u001b[0m kwds \u001b[39m=\u001b[39m {\u001b[39m'\u001b[39m\u001b[39mkeepdims\u001b[39m\u001b[39m'\u001b[39m: keepdims} \u001b[39mif\u001b[39;00m keepdims \u001b[39mis\u001b[39;00m \u001b[39mnot\u001b[39;00m np\u001b[39m.\u001b[39m_NoValue \u001b[39melse\u001b[39;00m {}\n\u001b[0;32m-> 1216\u001b[0m \u001b[39mreturn\u001b[39;00m _wrapfunc(a, \u001b[39m'\u001b[39;49m\u001b[39margmax\u001b[39;49m\u001b[39m'\u001b[39;49m, axis\u001b[39m=\u001b[39;49maxis, out\u001b[39m=\u001b[39;49mout, \u001b[39m*\u001b[39;49m\u001b[39m*\u001b[39;49mkwds)\n",
      "File \u001b[0;32m~/extract/OCR/lib/python3.9/site-packages/numpy/core/fromnumeric.py:54\u001b[0m, in \u001b[0;36m_wrapfunc\u001b[0;34m(obj, method, *args, **kwds)\u001b[0m\n\u001b[1;32m     52\u001b[0m bound \u001b[39m=\u001b[39m \u001b[39mgetattr\u001b[39m(obj, method, \u001b[39mNone\u001b[39;00m)\n\u001b[1;32m     53\u001b[0m \u001b[39mif\u001b[39;00m bound \u001b[39mis\u001b[39;00m \u001b[39mNone\u001b[39;00m:\n\u001b[0;32m---> 54\u001b[0m     \u001b[39mreturn\u001b[39;00m _wrapit(obj, method, \u001b[39m*\u001b[39;49margs, \u001b[39m*\u001b[39;49m\u001b[39m*\u001b[39;49mkwds)\n\u001b[1;32m     56\u001b[0m \u001b[39mtry\u001b[39;00m:\n\u001b[1;32m     57\u001b[0m     \u001b[39mreturn\u001b[39;00m bound(\u001b[39m*\u001b[39margs, \u001b[39m*\u001b[39m\u001b[39m*\u001b[39mkwds)\n",
      "File \u001b[0;32m~/extract/OCR/lib/python3.9/site-packages/numpy/core/fromnumeric.py:43\u001b[0m, in \u001b[0;36m_wrapit\u001b[0;34m(obj, method, *args, **kwds)\u001b[0m\n\u001b[1;32m     41\u001b[0m \u001b[39mexcept\u001b[39;00m \u001b[39mAttributeError\u001b[39;00m:\n\u001b[1;32m     42\u001b[0m     wrap \u001b[39m=\u001b[39m \u001b[39mNone\u001b[39;00m\n\u001b[0;32m---> 43\u001b[0m result \u001b[39m=\u001b[39m \u001b[39mgetattr\u001b[39m(asarray(obj), method)(\u001b[39m*\u001b[39margs, \u001b[39m*\u001b[39m\u001b[39m*\u001b[39mkwds)\n\u001b[1;32m     44\u001b[0m \u001b[39mif\u001b[39;00m wrap:\n\u001b[1;32m     45\u001b[0m     \u001b[39mif\u001b[39;00m \u001b[39mnot\u001b[39;00m \u001b[39misinstance\u001b[39m(result, mu\u001b[39m.\u001b[39mndarray):\n",
      "File \u001b[0;32m~/extract/OCR/lib/python3.9/site-packages/keras/preprocessing/image.py:156\u001b[0m, in \u001b[0;36mIterator.__next__\u001b[0;34m(self, *args, **kwargs)\u001b[0m\n\u001b[1;32m    155\u001b[0m \u001b[39mdef\u001b[39;00m \u001b[39m__next__\u001b[39m(\u001b[39mself\u001b[39m, \u001b[39m*\u001b[39margs, \u001b[39m*\u001b[39m\u001b[39m*\u001b[39mkwargs):\n\u001b[0;32m--> 156\u001b[0m     \u001b[39mreturn\u001b[39;00m \u001b[39mself\u001b[39;49m\u001b[39m.\u001b[39;49mnext(\u001b[39m*\u001b[39;49margs, \u001b[39m*\u001b[39;49m\u001b[39m*\u001b[39;49mkwargs)\n",
      "File \u001b[0;32m~/extract/OCR/lib/python3.9/site-packages/keras/preprocessing/image.py:168\u001b[0m, in \u001b[0;36mIterator.next\u001b[0;34m(self)\u001b[0m\n\u001b[1;32m    165\u001b[0m     index_array \u001b[39m=\u001b[39m \u001b[39mnext\u001b[39m(\u001b[39mself\u001b[39m\u001b[39m.\u001b[39mindex_generator)\n\u001b[1;32m    166\u001b[0m \u001b[39m# The transformation of images is not under thread lock\u001b[39;00m\n\u001b[1;32m    167\u001b[0m \u001b[39m# so it can be done in parallel\u001b[39;00m\n\u001b[0;32m--> 168\u001b[0m \u001b[39mreturn\u001b[39;00m \u001b[39mself\u001b[39;49m\u001b[39m.\u001b[39;49m_get_batches_of_transformed_samples(index_array)\n",
      "File \u001b[0;32m~/extract/OCR/lib/python3.9/site-packages/keras/preprocessing/image.py:377\u001b[0m, in \u001b[0;36mBatchFromFilesMixin._get_batches_of_transformed_samples\u001b[0;34m(self, index_array)\u001b[0m\n\u001b[1;32m    369\u001b[0m \u001b[39mfor\u001b[39;00m i, j \u001b[39min\u001b[39;00m \u001b[39menumerate\u001b[39m(index_array):\n\u001b[1;32m    370\u001b[0m     img \u001b[39m=\u001b[39m image_utils\u001b[39m.\u001b[39mload_img(\n\u001b[1;32m    371\u001b[0m         filepaths[j],\n\u001b[1;32m    372\u001b[0m         color_mode\u001b[39m=\u001b[39m\u001b[39mself\u001b[39m\u001b[39m.\u001b[39mcolor_mode,\n\u001b[0;32m   (...)\u001b[0m\n\u001b[1;32m    375\u001b[0m         keep_aspect_ratio\u001b[39m=\u001b[39m\u001b[39mself\u001b[39m\u001b[39m.\u001b[39mkeep_aspect_ratio,\n\u001b[1;32m    376\u001b[0m     )\n\u001b[0;32m--> 377\u001b[0m     x \u001b[39m=\u001b[39m image_utils\u001b[39m.\u001b[39;49mimg_to_array(img, data_format\u001b[39m=\u001b[39;49m\u001b[39mself\u001b[39;49m\u001b[39m.\u001b[39;49mdata_format)\n\u001b[1;32m    378\u001b[0m     \u001b[39m# Pillow images should be closed after `load_img`,\u001b[39;00m\n\u001b[1;32m    379\u001b[0m     \u001b[39m# but not PIL images.\u001b[39;00m\n\u001b[1;32m    380\u001b[0m     \u001b[39mif\u001b[39;00m \u001b[39mhasattr\u001b[39m(img, \u001b[39m\"\u001b[39m\u001b[39mclose\u001b[39m\u001b[39m\"\u001b[39m):\n",
      "File \u001b[0;32m~/extract/OCR/lib/python3.9/site-packages/keras/utils/image_utils.py:324\u001b[0m, in \u001b[0;36mimg_to_array\u001b[0;34m(img, data_format, dtype)\u001b[0m\n\u001b[1;32m    320\u001b[0m     \u001b[39mraise\u001b[39;00m \u001b[39mValueError\u001b[39;00m(\u001b[39mf\u001b[39m\u001b[39m\"\u001b[39m\u001b[39mUnknown data_format: \u001b[39m\u001b[39m{\u001b[39;00mdata_format\u001b[39m}\u001b[39;00m\u001b[39m\"\u001b[39m)\n\u001b[1;32m    321\u001b[0m \u001b[39m# Numpy array x has format (height, width, channel)\u001b[39;00m\n\u001b[1;32m    322\u001b[0m \u001b[39m# or (channel, height, width)\u001b[39;00m\n\u001b[1;32m    323\u001b[0m \u001b[39m# but original PIL image has format (width, height, channel)\u001b[39;00m\n\u001b[0;32m--> 324\u001b[0m x \u001b[39m=\u001b[39m np\u001b[39m.\u001b[39;49masarray(img, dtype\u001b[39m=\u001b[39;49mdtype)\n\u001b[1;32m    325\u001b[0m \u001b[39mif\u001b[39;00m \u001b[39mlen\u001b[39m(x\u001b[39m.\u001b[39mshape) \u001b[39m==\u001b[39m \u001b[39m3\u001b[39m:\n\u001b[1;32m    326\u001b[0m     \u001b[39mif\u001b[39;00m data_format \u001b[39m==\u001b[39m \u001b[39m\"\u001b[39m\u001b[39mchannels_first\u001b[39m\u001b[39m\"\u001b[39m:\n",
      "File \u001b[0;32m~/extract/OCR/lib/python3.9/site-packages/PIL/Image.py:696\u001b[0m, in \u001b[0;36mImage.__array_interface__\u001b[0;34m(self)\u001b[0m\n\u001b[1;32m    694\u001b[0m         new[\u001b[39m\"\u001b[39m\u001b[39mdata\u001b[39m\u001b[39m\"\u001b[39m] \u001b[39m=\u001b[39m \u001b[39mself\u001b[39m\u001b[39m.\u001b[39mtobytes(\u001b[39m\"\u001b[39m\u001b[39mraw\u001b[39m\u001b[39m\"\u001b[39m, \u001b[39m\"\u001b[39m\u001b[39mL\u001b[39m\u001b[39m\"\u001b[39m)\n\u001b[1;32m    695\u001b[0m     \u001b[39melse\u001b[39;00m:\n\u001b[0;32m--> 696\u001b[0m         new[\u001b[39m\"\u001b[39m\u001b[39mdata\u001b[39m\u001b[39m\"\u001b[39m] \u001b[39m=\u001b[39m \u001b[39mself\u001b[39;49m\u001b[39m.\u001b[39;49mtobytes()\n\u001b[1;32m    697\u001b[0m \u001b[39mexcept\u001b[39;00m \u001b[39mException\u001b[39;00m \u001b[39mas\u001b[39;00m e:\n\u001b[1;32m    698\u001b[0m     \u001b[39mif\u001b[39;00m \u001b[39mnot\u001b[39;00m \u001b[39misinstance\u001b[39m(e, (\u001b[39mMemoryError\u001b[39;00m, \u001b[39mRecursionError\u001b[39;00m)):\n",
      "File \u001b[0;32m~/extract/OCR/lib/python3.9/site-packages/PIL/Image.py:754\u001b[0m, in \u001b[0;36mImage.tobytes\u001b[0;34m(self, encoder_name, *args)\u001b[0m\n\u001b[1;32m    751\u001b[0m \u001b[39mif\u001b[39;00m encoder_name \u001b[39m==\u001b[39m \u001b[39m\"\u001b[39m\u001b[39mraw\u001b[39m\u001b[39m\"\u001b[39m \u001b[39mand\u001b[39;00m args \u001b[39m==\u001b[39m ():\n\u001b[1;32m    752\u001b[0m     args \u001b[39m=\u001b[39m \u001b[39mself\u001b[39m\u001b[39m.\u001b[39mmode\n\u001b[0;32m--> 754\u001b[0m \u001b[39mself\u001b[39;49m\u001b[39m.\u001b[39;49mload()\n\u001b[1;32m    756\u001b[0m \u001b[39mif\u001b[39;00m \u001b[39mself\u001b[39m\u001b[39m.\u001b[39mwidth \u001b[39m==\u001b[39m \u001b[39m0\u001b[39m \u001b[39mor\u001b[39;00m \u001b[39mself\u001b[39m\u001b[39m.\u001b[39mheight \u001b[39m==\u001b[39m \u001b[39m0\u001b[39m:\n\u001b[1;32m    757\u001b[0m     \u001b[39mreturn\u001b[39;00m \u001b[39mb\u001b[39m\u001b[39m\"\u001b[39m\u001b[39m\"\u001b[39m\n",
      "File \u001b[0;32m~/extract/OCR/lib/python3.9/site-packages/PIL/Image.py:872\u001b[0m, in \u001b[0;36mImage.load\u001b[0;34m(self)\u001b[0m\n\u001b[1;32m    870\u001b[0m     \u001b[39mif\u001b[39;00m \u001b[39mself\u001b[39m\u001b[39m.\u001b[39mpyaccess:\n\u001b[1;32m    871\u001b[0m         \u001b[39mreturn\u001b[39;00m \u001b[39mself\u001b[39m\u001b[39m.\u001b[39mpyaccess\n\u001b[0;32m--> 872\u001b[0m \u001b[39mreturn\u001b[39;00m \u001b[39mself\u001b[39;49m\u001b[39m.\u001b[39;49mim\u001b[39m.\u001b[39;49mpixel_access(\u001b[39mself\u001b[39;49m\u001b[39m.\u001b[39;49mreadonly)\n",
      "\u001b[0;31mKeyboardInterrupt\u001b[0m: "
     ]
    },
    {
     "data": {
      "text/plain": [
       "<Figure size 500x900 with 0 Axes>"
      ]
     },
     "metadata": {},
     "output_type": "display_data"
    }
   ],
   "source": [
    "plt.figure(figsize = (5,9))\n",
    "pred = model.predict(test_dataset)\n",
    "y_pred = np.argmax(pred, axis=1)\n",
    "y_true = np.argmax(test_dataset, axis=1)\n",
    "cm = confusion_matrix(y_true,y_pred)\n",
    "sns.heatmap(cm, annot = True, fmt = 'd', xticklabels = class_names, yticklabels = class_names)"
   ]
  }
 ],
 "metadata": {
  "kernelspec": {
   "display_name": "extract",
   "language": "python",
   "name": "python3"
  },
  "language_info": {
   "codemirror_mode": {
    "name": "ipython",
    "version": 3
   },
   "file_extension": ".py",
   "mimetype": "text/x-python",
   "name": "python",
   "nbconvert_exporter": "python",
   "pygments_lexer": "ipython3",
   "version": "3.9.13"
  },
  "orig_nbformat": 4
 },
 "nbformat": 4,
 "nbformat_minor": 2
}
