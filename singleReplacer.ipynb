{
 "cells": [
  {
   "cell_type": "code",
   "execution_count": 49,
   "metadata": {},
   "outputs": [],
   "source": [
    "from PIL import Image\n",
    "import os\n",
    "import matplotlib.pyplot as plt\n",
    "# Morphological filtering\n",
    "from skimage.morphology import opening\n",
    "from skimage.morphology import disk\n",
    "\n",
    "# Data handling\n",
    "import numpy as np\n",
    "\n",
    "# Connected component filtering\n",
    "import cv2\n",
    "\n",
    "black = 0\n",
    "white = 255\n",
    "threshold = 165\n",
    "\n",
    "# Define the folder path where the image is located\n",
    "folder_path = \"preview_images/Hiragana/か\"\n",
    "\n",
    "# Define the filename of the image to process\n",
    "filename = \"か_60.png\"\n",
    "\n",
    "\n",
    "\n",
    "character, number = filename.split(\"_\")\n",
    "\n",
    "# Load the image\n",
    "img = Image.open(os.path.join(folder_path, filename)).convert(\"LA\")\n",
    "pixels = np.array(img)[:,:,0]\n",
    "\n",
    "# Apply the thresholding\n",
    "pixels[pixels > threshold] = white\n",
    "pixels[pixels < threshold] = black\n",
    "\n",
    "# Morphological opening\n",
    "blobSize = 1 # Select the maximum radius of the blobs you would like to remove\n",
    "structureElement = disk(blobSize)  # you can define different shapes, here we take a disk shape\n",
    "# We need to invert the image such that black is background and white foreground to perform the opening\n",
    "pixels = np.invert(opening(np.invert(pixels), structureElement))\n",
    "\n",
    "newImg = Image.fromarray(pixels).convert('RGB')\n",
    "nb_components, output, stats, centroids = cv2.connectedComponentsWithStats(np.invert(pixels), connectivity=8)\n",
    "\n",
    "# Create the new filename for the modified image\n",
    "new_filename = f\"{character}_{number}\"\n",
    "\n",
    "# Save the modified image with the new filename\n",
    "newImg.save(os.path.join(folder_path, new_filename))\n"
   ]
  }
 ],
 "metadata": {
  "kernelspec": {
   "display_name": "OCR",
   "language": "python",
   "name": "python3"
  },
  "language_info": {
   "codemirror_mode": {
    "name": "ipython",
    "version": 3
   },
   "file_extension": ".py",
   "mimetype": "text/x-python",
   "name": "python",
   "nbconvert_exporter": "python",
   "pygments_lexer": "ipython3",
   "version": "3.9.13"
  },
  "orig_nbformat": 4
 },
 "nbformat": 4,
 "nbformat_minor": 2
}
